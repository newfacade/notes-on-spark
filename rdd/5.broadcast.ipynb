{
 "cells": [
  {
   "cell_type": "markdown",
   "metadata": {},
   "source": [
    "# 广播变量 & 累加器\n",
    "\n",
    "```{note}\n",
    "在做应用开发时，总会有一些计算逻辑需要访问”全局变量“，需要在任意时刻对所有 Executors 都是可见的、共享的。<br/>\n",
    "Spark 使用广播变量和累加器对这样的逻辑提供支持。\n",
    "```"
   ]
  },
  {
   "cell_type": "markdown",
   "metadata": {},
   "source": [
    "## 广播变量"
   ]
  },
  {
   "cell_type": "code",
   "execution_count": 1,
   "metadata": {},
   "outputs": [],
   "source": [
    "from pyspark import SparkConf, SparkContext\n",
    "\n",
    "conf = SparkConf().setAppName(\"broadcast\").setMaster(\"local\")\n",
    "sc = SparkContext(conf=conf) "
   ]
  },
  {
   "cell_type": "code",
   "execution_count": 2,
   "metadata": {},
   "outputs": [
    {
     "name": "stdout",
     "output_type": "stream",
     "text": [
      "['Apache', 'Spark', 'Apache', 'Spark', 'Spark']\n"
     ]
    }
   ],
   "source": [
    "# 第一节的 Word Count\n",
    "lineRDD = sc.textFile(\"../data/wikiOfSpark.txt\")\n",
    "wordRDD = lineRDD.flatMap(lambda line: line.split(\" \"))\n",
    "# 这里我们希望只统计给定的单词\n",
    "words = [\"Apache\", \"Spark\"]\n",
    "# 创建广播变量\n",
    "bc = sc.broadcast(words)\n",
    "# 在 filter 时使用广播变量\n",
    "cleanWordRDD = wordRDD.filter(lambda word: word in bc.value)\n",
    "print(cleanWordRDD.take(5))"
   ]
  },
  {
   "cell_type": "markdown",
   "metadata": {},
   "source": [
    "## 累加器\n",
    "\n",
    "顾名思义，作用是做全局计数。"
   ]
  },
  {
   "cell_type": "code",
   "execution_count": 3,
   "metadata": {},
   "outputs": [
    {
     "name": "stdout",
     "output_type": "stream",
     "text": [
      "2579\n",
      "79\n"
     ]
    }
   ],
   "source": [
    "# 创建累加器，0为初始值\n",
    "ac = sc.accumulator(0)\n",
    "\n",
    "def f(x: str) -> bool:\n",
    "    \"\"\"过滤空字符串，但这次遇到空字符串累加器+1\"\"\"\n",
    "    if x == \"\":\n",
    "        ac.add(1)\n",
    "        return False\n",
    "    else:\n",
    "        return True\n",
    "\n",
    "# 在 filter 时使用累加器\n",
    "cleanWordRDD = wordRDD.filter(f)\n",
    "print(cleanWordRDD.count())\n",
    "print(ac.value)"
   ]
  },
  {
   "cell_type": "code",
   "execution_count": null,
   "metadata": {},
   "outputs": [],
   "source": []
  }
 ],
 "metadata": {
  "kernelspec": {
   "display_name": "Python 3",
   "language": "python",
   "name": "python3"
  },
  "language_info": {
   "codemirror_mode": {
    "name": "ipython",
    "version": 3
   },
   "file_extension": ".py",
   "mimetype": "text/x-python",
   "name": "python",
   "nbconvert_exporter": "python",
   "pygments_lexer": "ipython3",
   "version": "3.8.3"
  }
 },
 "nbformat": 4,
 "nbformat_minor": 4
}
