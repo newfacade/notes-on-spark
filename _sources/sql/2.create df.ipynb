{
 "cells": [
  {
   "cell_type": "markdown",
   "metadata": {},
   "source": [
    "# 创建 DataFrame\n",
    "\n",
    "```{note}\n",
    "可以从 RDD、从文件、从 RDBMS 创建 DataFrame 。\n",
    "```"
   ]
  },
  {
   "cell_type": "code",
   "execution_count": 1,
   "metadata": {},
   "outputs": [],
   "source": [
    "from pyspark.sql import SparkSession\n",
    "\n",
    "spark = (SparkSession\n",
    "         .builder\n",
    "         .appName(\"create dataframe\")\n",
    "         .config('spark.executor.memory', '4g')\n",
    "         .config('spark.driver.memory', '8g')\n",
    "         .config(\"spark.executor.cores\", 2)\n",
    "         .config('spark.cores.max', 4)\n",
    "         .getOrCreate())"
   ]
  },
  {
   "cell_type": "markdown",
   "metadata": {},
   "source": [
    "## 从 RDD 创建"
   ]
  },
  {
   "cell_type": "code",
   "execution_count": 2,
   "metadata": {},
   "outputs": [
    {
     "name": "stdout",
     "output_type": "stream",
     "text": [
      "+-----+---+\n",
      "| name|age|\n",
      "+-----+---+\n",
      "|Alice| 18|\n",
      "|  Bob| 20|\n",
      "+-----+---+\n",
      "\n"
     ]
    }
   ],
   "source": [
    "# 创建 RDD\n",
    "rdd = spark.sparkContext.parallelize([('Alice', 18), ('Bob', 20)])\n",
    "# 指明列\n",
    "df1 = spark.createDataFrame(rdd, ['name', 'age'])\n",
    "df1.show()"
   ]
  },
  {
   "cell_type": "code",
   "execution_count": 3,
   "metadata": {},
   "outputs": [
    {
     "name": "stdout",
     "output_type": "stream",
     "text": [
      "+-----+---+\n",
      "| name|age|\n",
      "+-----+---+\n",
      "|Alice| 18|\n",
      "|  Bob| 20|\n",
      "+-----+---+\n",
      "\n"
     ]
    }
   ],
   "source": [
    "# 使用 toDF 方法达到同样的效果\n",
    "rdd.toDF(['name', 'age']).show()"
   ]
  },
  {
   "cell_type": "code",
   "execution_count": 4,
   "metadata": {},
   "outputs": [
    {
     "name": "stdout",
     "output_type": "stream",
     "text": [
      "root\n",
      " |-- name: string (nullable = true)\n",
      " |-- age: integer (nullable = true)\n",
      "\n"
     ]
    }
   ],
   "source": [
    "from pyspark.sql.types import StructType, StructField, StringType, IntegerType\n",
    "\n",
    "# 定义 schema\n",
    "schema = StructType([StructField(\"name\", StringType()),\n",
    "                     StructField(\"age\", IntegerType())])\n",
    "# 指明 schema\n",
    "df2 = spark.createDataFrame(rdd, schema=schema)\n",
    "df2.printSchema()"
   ]
  },
  {
   "cell_type": "markdown",
   "metadata": {},
   "source": [
    "## 读取文件创建"
   ]
  },
  {
   "cell_type": "code",
   "execution_count": 5,
   "metadata": {},
   "outputs": [
    {
     "name": "stdout",
     "output_type": "stream",
     "text": [
      "+-----+---+\n",
      "| name|age|\n",
      "+-----+---+\n",
      "|Alice| 18|\n",
      "|  Bob| 20|\n",
      "| John| 35|\n",
      "| Lily|  6|\n",
      "+-----+---+\n",
      "\n"
     ]
    }
   ],
   "source": [
    "# 指明 schema，且遇到脏数据跳过加载\n",
    "df = (spark.read.format(\"csv\")\n",
    "      .schema(schema)\n",
    "      .option(\"header\", True)\n",
    "      .option(\"mode\", \"dropMalformed\")\n",
    "      .load(\"../data/sample.csv\"))\n",
    "df.show()"
   ]
  },
  {
   "cell_type": "markdown",
   "metadata": {},
   "source": [
    "也可从 Parquet/ORC 文件创建 DataFrame，因为它们是列存文件，因此无需手动指定 schema 。\n",
    "\n",
    "```python\n",
    "# 读取 parquet 文件\n",
    "df3 = spark.read.format(\"parquet\").load(\"/road_to_parquet_file\")\n",
    "# 读取 orc 文件\n",
    "df4 = spark.read.format(\"orc\").load(\"/road_to_orc_file\")\n",
    "```"
   ]
  },
  {
   "cell_type": "markdown",
   "metadata": {},
   "source": [
    "## 从 RDBMS 创建\n",
    "\n",
    "RDBMS 即关系型数据库管理系统，从 RDBMS 创建 DataFrame 的代码示例如下：\n",
    "\n",
    "```python\n",
    "df = (spark.read.format(\"jdbc\")\n",
    "      .option(\"driver\", \"com.mysql.jdbc.Driver\")\n",
    "      .option(\"url\", \"jdbc:mysql://hostname:port/mysql\")\n",
    "      .option(\"user\", \"your_user_name\")\n",
    "      .option(\"password\", \"your_password\")\n",
    "      .option(\"numPartitions\", 20)\n",
    "      .option(\"dbtable\", \"table_name\")\n",
    "      .load())\n",
    "```"
   ]
  },
  {
   "cell_type": "code",
   "execution_count": null,
   "metadata": {},
   "outputs": [],
   "source": []
  }
 ],
 "metadata": {
  "kernelspec": {
   "display_name": "Python 3",
   "language": "python",
   "name": "python3"
  },
  "language_info": {
   "codemirror_mode": {
    "name": "ipython",
    "version": 3
   },
   "file_extension": ".py",
   "mimetype": "text/x-python",
   "name": "python",
   "nbconvert_exporter": "python",
   "pygments_lexer": "ipython3",
   "version": "3.8.3"
  }
 },
 "nbformat": 4,
 "nbformat_minor": 4
}
