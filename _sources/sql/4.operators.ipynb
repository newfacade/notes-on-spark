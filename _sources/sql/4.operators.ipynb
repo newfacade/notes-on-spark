{
 "cells": [
  {
   "cell_type": "markdown",
   "metadata": {},
   "source": [
    "# DataFrame 常用算子\n",
    "\n",
    "```{note}\n",
    "可以将 DataFrame 的常用算子分为探索类算子、清洗类算子、转换类算子、分析类算子和持久化算子。\n",
    "```"
   ]
  },
  {
   "cell_type": "code",
   "execution_count": 1,
   "metadata": {},
   "outputs": [],
   "source": [
    "from pyspark.sql import SparkSession\n",
    "\n",
    "spark = (SparkSession\n",
    "         .builder\n",
    "         .appName(\"df operators\")\n",
    "         .config('spark.executor.memory', '3g')\n",
    "         .config('spark.driver.memory', '6g')\n",
    "         .config(\"spark.executor.cores\", 2)\n",
    "         .config('spark.cores.max', 4)\n",
    "         .getOrCreate())"
   ]
  },
  {
   "cell_type": "code",
   "execution_count": 2,
   "metadata": {},
   "outputs": [
    {
     "data": {
      "text/plain": [
       "DataFrame[id: bigint, name: string, age: bigint, gender: string]"
      ]
     },
     "execution_count": 2,
     "metadata": {},
     "output_type": "execute_result"
    }
   ],
   "source": [
    "import pyspark.sql.functions as F\n",
    "\n",
    "# 创建雇员表并持久化\n",
    "lst = [(1, \"John\", 18, \"Male\"), \n",
    "       (2, \"Lily\", 25, \"Female\"), \n",
    "       (3, \"Raymond\", 30, \"Male\"),\n",
    "       (4, None, 19, \"Female\"),\n",
    "       (2, \"Lily\", 25, \"Female\")]\n",
    "employeesDF = spark.createDataFrame(lst, [\"id\", \"name\", \"age\", \"gender\"])\n",
    "employeesDF.cache()"
   ]
  },
  {
   "cell_type": "markdown",
   "metadata": {},
   "source": [
    "## 探索类算子"
   ]
  },
  {
   "cell_type": "code",
   "execution_count": 3,
   "metadata": {},
   "outputs": [
    {
     "name": "stdout",
     "output_type": "stream",
     "text": [
      "root\n",
      " |-- id: long (nullable = true)\n",
      " |-- name: string (nullable = true)\n",
      " |-- age: long (nullable = true)\n",
      " |-- gender: string (nullable = true)\n",
      "\n"
     ]
    }
   ],
   "source": [
    "# 打印 schema\n",
    "employeesDF.printSchema()"
   ]
  },
  {
   "cell_type": "code",
   "execution_count": 4,
   "metadata": {},
   "outputs": [
    {
     "data": {
      "text/plain": [
       "StructType(List(StructField(id,LongType,true),StructField(name,StringType,true),StructField(age,LongType,true),StructField(gender,StringType,true)))"
      ]
     },
     "execution_count": 4,
     "metadata": {},
     "output_type": "execute_result"
    }
   ],
   "source": [
    "# schema 属性\n",
    "employeesDF.schema"
   ]
  },
  {
   "cell_type": "code",
   "execution_count": 5,
   "metadata": {},
   "outputs": [
    {
     "data": {
      "text/plain": [
       "['id', 'name', 'age', 'gender']"
      ]
     },
     "execution_count": 5,
     "metadata": {},
     "output_type": "execute_result"
    }
   ],
   "source": [
    "# columns 属性\n",
    "employeesDF.columns"
   ]
  },
  {
   "cell_type": "code",
   "execution_count": 6,
   "metadata": {},
   "outputs": [
    {
     "data": {
      "text/plain": [
       "Row(id=1, name='John', age=18, gender='Male')"
      ]
     },
     "execution_count": 6,
     "metadata": {},
     "output_type": "execute_result"
    }
   ],
   "source": [
    "# 一行数据\n",
    "employeesDF.first()"
   ]
  },
  {
   "cell_type": "code",
   "execution_count": 7,
   "metadata": {},
   "outputs": [
    {
     "data": {
      "text/plain": [
       "[Row(id=1, name='John', age=18, gender='Male'),\n",
       " Row(id=2, name='Lily', age=25, gender='Female')]"
      ]
     },
     "execution_count": 7,
     "metadata": {},
     "output_type": "execute_result"
    }
   ],
   "source": [
    "# 多行数据\n",
    "employeesDF.take(2)"
   ]
  },
  {
   "cell_type": "code",
   "execution_count": 8,
   "metadata": {},
   "outputs": [
    {
     "data": {
      "text/plain": [
       "[Row(id=1, name='John', age=18, gender='Male'),\n",
       " Row(id=2, name='Lily', age=25, gender='Female'),\n",
       " Row(id=3, name='Raymond', age=30, gender='Male'),\n",
       " Row(id=4, name=None, age=19, gender='Female'),\n",
       " Row(id=2, name='Lily', age=25, gender='Female')]"
      ]
     },
     "execution_count": 8,
     "metadata": {},
     "output_type": "execute_result"
    }
   ],
   "source": [
    "# 全部数据\n",
    "employeesDF.collect()"
   ]
  },
  {
   "cell_type": "code",
   "execution_count": 9,
   "metadata": {},
   "outputs": [
    {
     "name": "stdout",
     "output_type": "stream",
     "text": [
      "+---+-------+---+------+\n",
      "| id|   name|age|gender|\n",
      "+---+-------+---+------+\n",
      "|  1|   John| 18|  Male|\n",
      "|  2|   Lily| 25|Female|\n",
      "|  3|Raymond| 30|  Male|\n",
      "|  4|   null| 19|Female|\n",
      "|  2|   Lily| 25|Female|\n",
      "+---+-------+---+------+\n",
      "\n"
     ]
    }
   ],
   "source": [
    "# 打印数据，默认20行\n",
    "employeesDF.show()"
   ]
  },
  {
   "cell_type": "code",
   "execution_count": 10,
   "metadata": {},
   "outputs": [
    {
     "name": "stdout",
     "output_type": "stream",
     "text": [
      "+-------+-----------------+\n",
      "|summary|              age|\n",
      "+-------+-----------------+\n",
      "|  count|                5|\n",
      "|   mean|             23.4|\n",
      "| stddev|4.929503017546495|\n",
      "|    min|               18|\n",
      "|    max|               30|\n",
      "+-------+-----------------+\n",
      "\n"
     ]
    }
   ],
   "source": [
    "# 查看列分布\n",
    "employeesDF.describe([\"age\"]).show()"
   ]
  },
  {
   "cell_type": "markdown",
   "metadata": {},
   "source": [
    "## 清洗类算子"
   ]
  },
  {
   "cell_type": "code",
   "execution_count": 11,
   "metadata": {},
   "outputs": [
    {
     "name": "stdout",
     "output_type": "stream",
     "text": [
      "+---+-------+---+\n",
      "| id|   name|age|\n",
      "+---+-------+---+\n",
      "|  1|   John| 18|\n",
      "|  2|   Lily| 25|\n",
      "|  3|Raymond| 30|\n",
      "|  4|   null| 19|\n",
      "|  2|   Lily| 25|\n",
      "+---+-------+---+\n",
      "\n"
     ]
    }
   ],
   "source": [
    "# 去掉一列\n",
    "employeesDF.drop(\"gender\").show()"
   ]
  },
  {
   "cell_type": "code",
   "execution_count": 12,
   "metadata": {},
   "outputs": [
    {
     "name": "stdout",
     "output_type": "stream",
     "text": [
      "+---+-------+---+------+\n",
      "| id|   name|age|gender|\n",
      "+---+-------+---+------+\n",
      "|  1|   John| 18|  Male|\n",
      "|  2|   Lily| 25|Female|\n",
      "|  3|Raymond| 30|  Male|\n",
      "|  4|   null| 19|Female|\n",
      "+---+-------+---+------+\n",
      "\n"
     ]
    }
   ],
   "source": [
    "# 去重\n",
    "employeesDF.distinct().show()"
   ]
  },
  {
   "cell_type": "code",
   "execution_count": 13,
   "metadata": {},
   "outputs": [
    {
     "name": "stdout",
     "output_type": "stream",
     "text": [
      "+---+----+---+------+\n",
      "| id|name|age|gender|\n",
      "+---+----+---+------+\n",
      "|  2|Lily| 25|Female|\n",
      "|  1|John| 18|  Male|\n",
      "+---+----+---+------+\n",
      "\n"
     ]
    }
   ],
   "source": [
    "# 针对某几列去重\n",
    "employeesDF.dropDuplicates(['gender']).show()"
   ]
  },
  {
   "cell_type": "code",
   "execution_count": 14,
   "metadata": {},
   "outputs": [
    {
     "name": "stdout",
     "output_type": "stream",
     "text": [
      "+---+-------+---+------+\n",
      "| id|   name|age|gender|\n",
      "+---+-------+---+------+\n",
      "|  1|   John| 18|  Male|\n",
      "|  2|   Lily| 25|Female|\n",
      "|  3|Raymond| 30|  Male|\n",
      "|  2|   Lily| 25|Female|\n",
      "+---+-------+---+------+\n",
      "\n"
     ]
    }
   ],
   "source": [
    "# 删除带 null 值的数据记录\n",
    "employeesDF.na.drop().show()"
   ]
  },
  {
   "cell_type": "code",
   "execution_count": 15,
   "metadata": {},
   "outputs": [
    {
     "name": "stdout",
     "output_type": "stream",
     "text": [
      "+---+-------+---+------+\n",
      "| id|   name|age|gender|\n",
      "+---+-------+---+------+\n",
      "|  1|   John| 18|  Male|\n",
      "|  2|   Lily| 25|Female|\n",
      "|  3|Raymond| 30|  Male|\n",
      "|  4|      ?| 19|Female|\n",
      "|  2|   Lily| 25|Female|\n",
      "+---+-------+---+------+\n",
      "\n"
     ]
    }
   ],
   "source": [
    "# null 值填充\n",
    "employeesDF.na.fill(\"?\").show()"
   ]
  },
  {
   "cell_type": "markdown",
   "metadata": {},
   "source": [
    "## 转换类算子"
   ]
  },
  {
   "cell_type": "code",
   "execution_count": 16,
   "metadata": {},
   "outputs": [
    {
     "name": "stdout",
     "output_type": "stream",
     "text": [
      "+-------+------+\n",
      "|   name|gender|\n",
      "+-------+------+\n",
      "|   John|  Male|\n",
      "|   Lily|Female|\n",
      "|Raymond|  Male|\n",
      "|   null|Female|\n",
      "|   Lily|Female|\n",
      "+-------+------+\n",
      "\n"
     ]
    }
   ],
   "source": [
    "# 提取列\n",
    "employeesDF.select(\"name\", \"gender\").show()"
   ]
  },
  {
   "cell_type": "code",
   "execution_count": 17,
   "metadata": {},
   "outputs": [
    {
     "name": "stdout",
     "output_type": "stream",
     "text": [
      "+---+-------+---------+\n",
      "| id|   name|  id_name|\n",
      "+---+-------+---------+\n",
      "|  1|   John|   1_John|\n",
      "|  2|   Lily|   2_Lily|\n",
      "|  3|Raymond|3_Raymond|\n",
      "|  4|   null|     null|\n",
      "|  2|   Lily|   2_Lily|\n",
      "+---+-------+---------+\n",
      "\n"
     ]
    }
   ],
   "source": [
    "# 提取列，支持 expr\n",
    "employeesDF.selectExpr(\"id\", \"name\", \"concat(id, '_', name) as id_name\").show()"
   ]
  },
  {
   "cell_type": "code",
   "execution_count": 18,
   "metadata": {},
   "outputs": [
    {
     "name": "stdout",
     "output_type": "stream",
     "text": [
      "+---+----+---+------+\n",
      "| id|name|age|gender|\n",
      "+---+----+---+------+\n",
      "|  1|John| 18|  Male|\n",
      "|  2|Lily| 25|Female|\n",
      "|  2|Lily| 25|Female|\n",
      "+---+----+---+------+\n",
      "\n"
     ]
    }
   ],
   "source": [
    "# where 就是 filter\n",
    "df = employeesDF.where(F.col(\"id\") <= 2)\n",
    "df.show()"
   ]
  },
  {
   "cell_type": "code",
   "execution_count": 19,
   "metadata": {},
   "outputs": [
    {
     "name": "stdout",
     "output_type": "stream",
     "text": [
      "+---+-------+---+------+\n",
      "| id|   name|age|   sex|\n",
      "+---+-------+---+------+\n",
      "|  1|   John| 18|  Male|\n",
      "|  2|   Lily| 25|Female|\n",
      "|  3|Raymond| 30|  Male|\n",
      "|  4|   null| 19|Female|\n",
      "|  2|   Lily| 25|Female|\n",
      "+---+-------+---+------+\n",
      "\n"
     ]
    }
   ],
   "source": [
    "# 字段重命名\n",
    "employeesDF.withColumnRenamed(\"gender\", \"sex\").show()"
   ]
  },
  {
   "cell_type": "code",
   "execution_count": 20,
   "metadata": {},
   "outputs": [
    {
     "name": "stdout",
     "output_type": "stream",
     "text": [
      "+---+-------+---+------+-------+\n",
      "| id|   name|age|gender|new age|\n",
      "+---+-------+---+------+-------+\n",
      "|  1|   John| 18|  Male|     19|\n",
      "|  2|   Lily| 25|Female|     26|\n",
      "|  3|Raymond| 30|  Male|     31|\n",
      "|  4|   null| 19|Female|     20|\n",
      "|  2|   Lily| 25|Female|     26|\n",
      "+---+-------+---+------+-------+\n",
      "\n"
     ]
    }
   ],
   "source": [
    "# 生成新的数据列\n",
    "employeesDF.withColumn(\"new age\", F.col(\"age\") + 1).show()"
   ]
  },
  {
   "cell_type": "code",
   "execution_count": 21,
   "metadata": {},
   "outputs": [
    {
     "name": "stdout",
     "output_type": "stream",
     "text": [
      "+---+-------+---+------+\n",
      "| id|   name|age|gender|\n",
      "+---+-------+---+------+\n",
      "|  1|   John| 18|  Male|\n",
      "|  2|   Lily| 25|Female|\n",
      "|  3|Raymond| 30|  Male|\n",
      "|  4|   null| 19|Female|\n",
      "|  2|   Lily| 25|Female|\n",
      "|  1|   John| 18|  Male|\n",
      "|  2|   Lily| 25|Female|\n",
      "|  2|   Lily| 25|Female|\n",
      "+---+-------+---+------+\n",
      "\n"
     ]
    }
   ],
   "source": [
    "# 同类型 DataFrame 合并\n",
    "employeesDF.union(df).show()"
   ]
  },
  {
   "cell_type": "code",
   "execution_count": 22,
   "metadata": {},
   "outputs": [
    {
     "name": "stdout",
     "output_type": "stream",
     "text": [
      "+---+----+---+------+\n",
      "| id|name|age|gender|\n",
      "+---+----+---+------+\n",
      "|  1|John| 18|  Male|\n",
      "+---+----+---+------+\n",
      "\n"
     ]
    }
   ],
   "source": [
    "# 采样，参数为：是否有放回，比例，随机数种子\n",
    "employeesDF.sample(True, 0.5, 42).show()"
   ]
  },
  {
   "cell_type": "markdown",
   "metadata": {},
   "source": [
    "## 分析类算子\n",
    "\n",
    "毫不夸张的说，前面的探索、清洗、转换，都是在为数据分析做准备。<br/>\n",
    "在大多数数据应用中，数据分析往往是最关键的，甚至是应用本身的核心目的。"
   ]
  },
  {
   "cell_type": "code",
   "execution_count": 23,
   "metadata": {},
   "outputs": [
    {
     "name": "stdout",
     "output_type": "stream",
     "text": [
      "+---+------+-------+---+------+\n",
      "| id|salary|   name|age|gender|\n",
      "+---+------+-------+---+------+\n",
      "|  1| 26000|   John| 18|  Male|\n",
      "|  2| 30000|   Lily| 25|Female|\n",
      "|  2| 30000|   Lily| 25|Female|\n",
      "|  3| 25000|Raymond| 30|  Male|\n",
      "|  4| 20000|   null| 19|Female|\n",
      "+---+------+-------+---+------+\n",
      "\n"
     ]
    }
   ],
   "source": [
    "# 薪水表\n",
    "salaries = spark.createDataFrame([(1, 26000), (2, 30000), (3, 25000), (4, 20000)], \n",
    "                                 [\"id\", \"salary\"])\n",
    "# 和另一个表做 inner join\n",
    "fullInfo = salaries.join(employeesDF, \"id\", \"inner\")\n",
    "fullInfo.show()"
   ]
  },
  {
   "cell_type": "code",
   "execution_count": 24,
   "metadata": {},
   "outputs": [
    {
     "name": "stdout",
     "output_type": "stream",
     "text": [
      "+------+----------+------------------+\n",
      "|gender|sum_salary|        avg_salary|\n",
      "+------+----------+------------------+\n",
      "|  Male|     51000|           25500.0|\n",
      "|Female|     80000|26666.666666666668|\n",
      "+------+----------+------------------+\n",
      "\n"
     ]
    }
   ],
   "source": [
    "# groupBy 聚合\n",
    "# agg 统计并生成新列\n",
    "aggResult = (fullInfo.groupBy(\"gender\")\n",
    "             .agg(F.sum(\"salary\").alias(\"sum_salary\"), \n",
    "                  F.avg(\"salary\").alias(\"avg_salary\")))\n",
    "aggResult.show()"
   ]
  },
  {
   "cell_type": "code",
   "execution_count": 25,
   "metadata": {},
   "outputs": [
    {
     "name": "stdout",
     "output_type": "stream",
     "text": [
      "+------+----------+------------------+\n",
      "|gender|sum_salary|        avg_salary|\n",
      "+------+----------+------------------+\n",
      "|  Male|     51000|           25500.0|\n",
      "|Female|     80000|26666.666666666668|\n",
      "+------+----------+------------------+\n",
      "\n"
     ]
    }
   ],
   "source": [
    "# orderBy 等同于 sort\n",
    "aggResult.sort(\"sum_salary\", ascending=True).show()"
   ]
  },
  {
   "cell_type": "markdown",
   "metadata": {},
   "source": [
    "## 持久化算子\n",
    "\n",
    "即 `write` API，它类似于 `read` API"
   ]
  },
  {
   "cell_type": "code",
   "execution_count": 26,
   "metadata": {},
   "outputs": [],
   "source": [
    "import os\n",
    "\n",
    "path = \"../data/agg.csv\"\n",
    "if not os.path.exists(path):\n",
    "    aggResult.write.format(\"csv\").option(\"header\", True).save(path)"
   ]
  },
  {
   "cell_type": "code",
   "execution_count": null,
   "metadata": {},
   "outputs": [],
   "source": []
  }
 ],
 "metadata": {
  "kernelspec": {
   "display_name": "Python 3",
   "language": "python",
   "name": "python3"
  },
  "language_info": {
   "codemirror_mode": {
    "name": "ipython",
    "version": 3
   },
   "file_extension": ".py",
   "mimetype": "text/x-python",
   "name": "python",
   "nbconvert_exporter": "python",
   "pygments_lexer": "ipython3",
   "version": "3.8.3"
  }
 },
 "nbformat": 4,
 "nbformat_minor": 4
}
