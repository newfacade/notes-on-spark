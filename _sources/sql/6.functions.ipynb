{
 "cells": [
  {
   "cell_type": "markdown",
   "metadata": {},
   "source": [
    "# 函数\n",
    "\n",
    "```{note}\n",
    "除了 DataFrame 算子，了解 Spark SQL 的常用函数对于我们的应用开发也是非常关键的。\n",
    "```"
   ]
  },
  {
   "cell_type": "code",
   "execution_count": 1,
   "metadata": {},
   "outputs": [],
   "source": [
    "from pyspark.sql import SparkSession\n",
    "import pyspark.sql.functions as F\n",
    "\n",
    "spark = (SparkSession\n",
    "         .builder\n",
    "         .appName(\"functions\")\n",
    "         .config('spark.executor.memory', '2g')\n",
    "         .config('spark.driver.memory', '4g')\n",
    "         .config(\"spark.executor.cores\", 2)\n",
    "         .config('spark.cores.max', 4)\n",
    "         .getOrCreate())"
   ]
  },
  {
   "cell_type": "markdown",
   "metadata": {},
   "source": [
    "## isin"
   ]
  },
  {
   "cell_type": "code",
   "execution_count": 2,
   "metadata": {},
   "outputs": [
    {
     "name": "stdout",
     "output_type": "stream",
     "text": [
      "+-----+---+\n",
      "| name|age|\n",
      "+-----+---+\n",
      "|  Bob|  5|\n",
      "|Alice|  2|\n",
      "+-----+---+\n",
      "\n"
     ]
    }
   ],
   "source": [
    "df = spark.createDataFrame([(\"Bob\", 5), (\"Alice\", 2)], (\"name\", \"age\"))\n",
    "df.show()"
   ]
  },
  {
   "cell_type": "code",
   "execution_count": 3,
   "metadata": {},
   "outputs": [
    {
     "name": "stdout",
     "output_type": "stream",
     "text": [
      "+----+---+\n",
      "|name|age|\n",
      "+----+---+\n",
      "| Bob|  5|\n",
      "+----+---+\n",
      "\n"
     ]
    }
   ],
   "source": [
    "# 列函数，起过滤作用\n",
    "df[df.name.isin([\"Bob\", \"Mike\"])].show()"
   ]
  },
  {
   "cell_type": "markdown",
   "metadata": {},
   "source": [
    "## when"
   ]
  },
  {
   "cell_type": "code",
   "execution_count": 4,
   "metadata": {},
   "outputs": [
    {
     "name": "stdout",
     "output_type": "stream",
     "text": [
      "+-------+\n",
      "|new age|\n",
      "+-------+\n",
      "|      4|\n",
      "|      3|\n",
      "+-------+\n",
      "\n"
     ]
    }
   ],
   "source": [
    "# 原来等于2岁的变3岁，其余变4岁\n",
    "df.select(F.when(df[\"age\"] == 2, 3).otherwise(4).alias(\"new age\")).show()"
   ]
  },
  {
   "cell_type": "code",
   "execution_count": 5,
   "metadata": {},
   "outputs": [
    {
     "name": "stdout",
     "output_type": "stream",
     "text": [
      "+-------+\n",
      "|new age|\n",
      "+-------+\n",
      "|   null|\n",
      "|      3|\n",
      "+-------+\n",
      "\n"
     ]
    }
   ],
   "source": [
    "# 没有 otherwise 其余值为 None\n",
    "df.select(F.when(df.age == 2, df.age + 1).alias(\"new age\")).show()"
   ]
  },
  {
   "cell_type": "markdown",
   "metadata": {},
   "source": [
    "## substring"
   ]
  },
  {
   "cell_type": "code",
   "execution_count": 6,
   "metadata": {},
   "outputs": [
    {
     "name": "stdout",
     "output_type": "stream",
     "text": [
      "+--------+\n",
      "|sub name|\n",
      "+--------+\n",
      "|      Bo|\n",
      "|      Al|\n",
      "+--------+\n",
      "\n"
     ]
    }
   ],
   "source": [
    "# 姓名的前两个字符，从第1个字符起的2个字符\n",
    "df.select(F.substring(df[\"name\"], 1, 2).alias(\"sub name\")).show()"
   ]
  },
  {
   "cell_type": "markdown",
   "metadata": {},
   "source": [
    "## concat"
   ]
  },
  {
   "cell_type": "code",
   "execution_count": 7,
   "metadata": {},
   "outputs": [
    {
     "name": "stdout",
     "output_type": "stream",
     "text": [
      "+----+---+\n",
      "|   s|  d|\n",
      "+----+---+\n",
      "|abcd|123|\n",
      "+----+---+\n",
      "\n"
     ]
    }
   ],
   "source": [
    "df = spark.createDataFrame([('abcd', 123)], ['s', 'd'])\n",
    "df.show()"
   ]
  },
  {
   "cell_type": "code",
   "execution_count": 8,
   "metadata": {},
   "outputs": [
    {
     "name": "stdout",
     "output_type": "stream",
     "text": [
      "+-------+\n",
      "|      s|\n",
      "+-------+\n",
      "|abcd123|\n",
      "+-------+\n",
      "\n"
     ]
    }
   ],
   "source": [
    "# 把两列 concat 起来\n",
    "df.select(F.concat(df.s, df.d).alias('s')).show()"
   ]
  },
  {
   "cell_type": "code",
   "execution_count": 9,
   "metadata": {},
   "outputs": [
    {
     "name": "stdout",
     "output_type": "stream",
     "text": [
      "+---------------+\n",
      "|            arr|\n",
      "+---------------+\n",
      "|[1, 2, 3, 4, 5]|\n",
      "|           null|\n",
      "+---------------+\n",
      "\n"
     ]
    }
   ],
   "source": [
    "# 也可以 concat 列表，若有 None 则 concat 的结果也为 None\n",
    "arr_df = spark.createDataFrame([([1, 2], [3, 4], [5]), \n",
    "                                ([1, 2], None, [3])], \n",
    "                               ['a', 'b', 'c'])\n",
    "arr_df.select(F.concat(arr_df.a, arr_df.b, arr_df.c).alias('arr')).show()"
   ]
  },
  {
   "cell_type": "markdown",
   "metadata": {},
   "source": [
    "## concat_ws"
   ]
  },
  {
   "cell_type": "code",
   "execution_count": 10,
   "metadata": {},
   "outputs": [
    {
     "name": "stdout",
     "output_type": "stream",
     "text": [
      "+--------+\n",
      "|       s|\n",
      "+--------+\n",
      "|abcd-123|\n",
      "+--------+\n",
      "\n"
     ]
    }
   ],
   "source": [
    "# 类似于 concat，它把多列并成一个字符串，自己指定 separator\n",
    "df.select(F.concat_ws('-', df.s, df.d).alias('s')).show()"
   ]
  },
  {
   "cell_type": "markdown",
   "metadata": {},
   "source": [
    "## collect_set\n",
    "\n",
    "Aggregate function: returns a set of objects with duplicate elements eliminated."
   ]
  },
  {
   "cell_type": "code",
   "execution_count": 11,
   "metadata": {},
   "outputs": [
    {
     "name": "stdout",
     "output_type": "stream",
     "text": [
      "+-------+\n",
      "|age set|\n",
      "+-------+\n",
      "| [5, 2]|\n",
      "+-------+\n",
      "\n"
     ]
    }
   ],
   "source": [
    "age_df = spark.createDataFrame([(2,), (5,), (5,)], ('age',))\n",
    "age_df.agg(F.collect_set(\"age\").alias(\"age set\")).show()"
   ]
  },
  {
   "cell_type": "markdown",
   "metadata": {},
   "source": [
    "## coalesce\n",
    "\n",
    "Returns the first column that is not null."
   ]
  },
  {
   "cell_type": "code",
   "execution_count": 12,
   "metadata": {},
   "outputs": [
    {
     "name": "stdout",
     "output_type": "stream",
     "text": [
      "+----+----+\n",
      "|   a|   b|\n",
      "+----+----+\n",
      "|null|null|\n",
      "|   1|null|\n",
      "|null|   2|\n",
      "+----+----+\n",
      "\n"
     ]
    }
   ],
   "source": [
    "null_df = spark.createDataFrame([(None, None), (1, None), (None, 2)], (\"a\", \"b\"))\n",
    "null_df.show()"
   ]
  },
  {
   "cell_type": "code",
   "execution_count": 13,
   "metadata": {},
   "outputs": [
    {
     "name": "stdout",
     "output_type": "stream",
     "text": [
      "+--------------+\n",
      "|coalesce(a, b)|\n",
      "+--------------+\n",
      "|          null|\n",
      "|             1|\n",
      "|             2|\n",
      "+--------------+\n",
      "\n"
     ]
    }
   ],
   "source": [
    "# 如果a的值非 null 就用a，否则用 b 的值\n",
    "null_df.select(F.coalesce(null_df[\"a\"], null_df[\"b\"])).show()"
   ]
  },
  {
   "cell_type": "markdown",
   "metadata": {},
   "source": [
    "## regexp_replace\n",
    "\n",
    "Replace all substrings of the specified string value that match regexp with rep."
   ]
  },
  {
   "cell_type": "code",
   "execution_count": 14,
   "metadata": {},
   "outputs": [
    {
     "name": "stdout",
     "output_type": "stream",
     "text": [
      "+-----------+\n",
      "|num to dash|\n",
      "+-----------+\n",
      "|      -----|\n",
      "+-----------+\n",
      "\n"
     ]
    }
   ],
   "source": [
    "df = spark.createDataFrame([('100-200',)], ['str'])\n",
    "\n",
    "# 一连串数字转化为--\n",
    "df.select(F.regexp_replace('str', r'(\\d+)', '--').alias('num to dash')).show()"
   ]
  },
  {
   "cell_type": "markdown",
   "metadata": {},
   "source": [
    "## regexp_extract\n",
    "\n",
    "Extract a specific group matched by a Java regex, from the specified string column.\n",
    "If the regex did not match, or the specified group did not match, an empty string is returned."
   ]
  },
  {
   "cell_type": "code",
   "execution_count": 15,
   "metadata": {},
   "outputs": [
    {
     "name": "stdout",
     "output_type": "stream",
     "text": [
      "+---+\n",
      "|  d|\n",
      "+---+\n",
      "|100|\n",
      "+---+\n",
      "\n"
     ]
    }
   ],
   "source": [
    "\"\"\"\n",
    "第三个参数：\n",
    "0表示显示与之匹配的整个字符串\n",
    "1表示显示第 1 个括号里面的字段\n",
    "2表示显示第 2 个括号里面的字段\n",
    "\"\"\"\n",
    "df.select(F.regexp_extract('str', r'(\\d+)-(\\d+)', 1).alias('d')).show()"
   ]
  },
  {
   "cell_type": "markdown",
   "metadata": {},
   "source": [
    "## udf\n",
    "\n",
    "Creates a user defined function (UDF)."
   ]
  },
  {
   "cell_type": "code",
   "execution_count": 16,
   "metadata": {},
   "outputs": [],
   "source": [
    "from pyspark.sql.functions import udf\n",
    "from pyspark.sql.types import IntegerType\n",
    "\n",
    "# lambda 定义\n",
    "slen = udf(lambda s: len(s), IntegerType())"
   ]
  },
  {
   "cell_type": "code",
   "execution_count": 17,
   "metadata": {},
   "outputs": [],
   "source": [
    "@udf\n",
    "def to_upper(s):\n",
    "    # 显示变大写\n",
    "    if s is not None:\n",
    "        return s.upper()\n",
    "    \n",
    "@udf(returnType=IntegerType())\n",
    "def add_one(x):\n",
    "    # 显示+1\n",
    "    if x is not None:\n",
    "        return x + 1"
   ]
  },
  {
   "cell_type": "code",
   "execution_count": 18,
   "metadata": {},
   "outputs": [
    {
     "name": "stdout",
     "output_type": "stream",
     "text": [
      "+----------+--------------+------------+\n",
      "|slen(name)|to_upper(name)|add_one(age)|\n",
      "+----------+--------------+------------+\n",
      "|         8|      JOHN DOE|          22|\n",
      "+----------+--------------+------------+\n",
      "\n"
     ]
    }
   ],
   "source": [
    "df = spark.createDataFrame([(1, \"John Doe\", 21)], (\"id\", \"name\", \"age\"))\n",
    "# 就像使用内置函数一样\n",
    "df.select(slen(\"name\").alias(\"slen(name)\"), to_upper(\"name\"), add_one(\"age\")).show()"
   ]
  },
  {
   "cell_type": "code",
   "execution_count": null,
   "metadata": {},
   "outputs": [],
   "source": []
  }
 ],
 "metadata": {
  "kernelspec": {
   "display_name": "Python 3",
   "language": "python",
   "name": "python3"
  },
  "language_info": {
   "codemirror_mode": {
    "name": "ipython",
    "version": 3
   },
   "file_extension": ".py",
   "mimetype": "text/x-python",
   "name": "python",
   "nbconvert_exporter": "python",
   "pygments_lexer": "ipython3",
   "version": "3.8.3"
  }
 },
 "nbformat": 4,
 "nbformat_minor": 4
}
