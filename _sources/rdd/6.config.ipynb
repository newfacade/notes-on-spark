{
 "cells": [
  {
   "cell_type": "markdown",
   "metadata": {},
   "source": [
    "# Spark 配置项\n",
    "\n",
    "```{note}\n",
    "要让 Spark 代码跑得又快又稳，我们需要配置项来帮忙。<br/>\n",
    "我们主要关注内存、CPU和磁盘相关的配置项。<br/>\n",
    "可以使用命令行参数或 SparkConf 对象进行配置。\n",
    "```"
   ]
  },
  {
   "cell_type": "markdown",
   "metadata": {},
   "source": [
    "## 内存\n",
    "\n",
    "Spark 的内存划分如下图所示：\n",
    "\n",
    "![jupyter](../images/memory.webp)"
   ]
  },
  {
   "cell_type": "code",
   "execution_count": 1,
   "metadata": {},
   "outputs": [],
   "source": [
    "from pyspark import SparkConf\n",
    "\n",
    "conf = SparkConf().setAppName(\"config\").setMaster(\"local\")"
   ]
  },
  {
   "cell_type": "code",
   "execution_count": 2,
   "metadata": {},
   "outputs": [
    {
     "data": {
      "text/plain": [
       "<pyspark.conf.SparkConf at 0x7fbd0f24d850>"
      ]
     },
     "execution_count": 2,
     "metadata": {},
     "output_type": "execute_result"
    }
   ],
   "source": [
    "# Executor 可用内存总大小\n",
    "conf.set(\"spark.executor.memory\", \"4g\")\n",
    "# 除 User Memory 以外的内存空间占比\n",
    "conf.set(\"spark.memory.fraction\", 0.8)\n",
    "# Storage Memory 内存空间占比\n",
    "conf.set(\"spark.memory.storageFraction\", 0.5)"
   ]
  },
  {
   "cell_type": "markdown",
   "metadata": {},
   "source": [
    "## CPU"
   ]
  },
  {
   "cell_type": "code",
   "execution_count": 3,
   "metadata": {},
   "outputs": [
    {
     "data": {
      "text/plain": [
       "<pyspark.conf.SparkConf at 0x7fbd0f24d850>"
      ]
     },
     "execution_count": 3,
     "metadata": {},
     "output_type": "execute_result"
    }
   ],
   "source": [
    "# 集群范围内 Executors 总数\n",
    "conf.set(\"spark.executor.instances\", 1)\n",
    "# 每个 Executor 可用的 CPU Cores\n",
    "conf.set(\"spark.executor.cores\", 4)\n",
    "# 默认的 RDD（由 parallelize 创建）并行度\n",
    "conf.set(\"spark.default.parallelism\", 4)\n",
    "# Shuffle Read（Reduce）阶段默认并行度\n",
    "conf.set(\"spark.sql.shuffle.partitions\", 4)"
   ]
  },
  {
   "cell_type": "markdown",
   "metadata": {},
   "source": [
    "## 磁盘"
   ]
  },
  {
   "cell_type": "code",
   "execution_count": 4,
   "metadata": {},
   "outputs": [
    {
     "data": {
      "text/plain": [
       "<pyspark.conf.SparkConf at 0x7fbd0f24d850>"
      ]
     },
     "execution_count": 4,
     "metadata": {},
     "output_type": "execute_result"
    }
   ],
   "source": [
    "# 用于存储 Shuffle 中间文件和 RDD Cache 的本地文件系统目录\n",
    "conf.set(\"spark.local.dir\", \"/tmp\")"
   ]
  },
  {
   "cell_type": "markdown",
   "metadata": {},
   "source": [
    "## 命令行参数\n",
    "\n",
    "除使用 SparkConf 对象进行配置外，还可以使用命令行参数，它的优先级相对低\n",
    "\n",
    "```\n",
    "\n",
    "spark-submit --master local[*] --conf spark.executor.cores=2 --conf spark.executor.memory=4g --conf spark.local.dir=/ssd_fs/large_dir\n",
    "```"
   ]
  },
  {
   "cell_type": "code",
   "execution_count": null,
   "metadata": {},
   "outputs": [],
   "source": []
  }
 ],
 "metadata": {
  "kernelspec": {
   "display_name": "Python 3",
   "language": "python",
   "name": "python3"
  },
  "language_info": {
   "codemirror_mode": {
    "name": "ipython",
    "version": 3
   },
   "file_extension": ".py",
   "mimetype": "text/x-python",
   "name": "python",
   "nbconvert_exporter": "python",
   "pygments_lexer": "ipython3",
   "version": "3.8.3"
  }
 },
 "nbformat": 4,
 "nbformat_minor": 4
}
