{
 "cells": [
  {
   "cell_type": "markdown",
   "metadata": {},
   "source": [
    "# Word Count\n",
    "\n",
    "```{note}\n",
    "Word Count 即读取一个文本文件，对文件中的单词做统计计数，然后打印出频次最高的几个单词。<br/>\n",
    "Word Count 是大数据的 Hello World。\n",
    "```"
   ]
  },
  {
   "cell_type": "markdown",
   "metadata": {},
   "source": [
    "## 读取内容"
   ]
  },
  {
   "cell_type": "code",
   "execution_count": 1,
   "metadata": {},
   "outputs": [],
   "source": [
    "from pyspark import SparkContext\n",
    "\n",
    "lineRDD = SparkContext().textFile(\"../data/wikiOfSpark.txt\")"
   ]
  },
  {
   "cell_type": "markdown",
   "metadata": {},
   "source": [
    "SparkContext 是使用 spark 的开发入口之一，需要注意的是，Cannot run multiple SparkContexts at once。<br/>\n",
    "textFile 方法用于读取文本文件。<br/>\n",
    "lineRDD 的类型是 RDD[String]，可以暂时把它当成元素类型是 String 的数组，数组的每个元素都是文件中的一行字符串。"
   ]
  },
  {
   "cell_type": "markdown",
   "metadata": {},
   "source": [
    "## 分词\n",
    "\n",
    "分词就是把“数组”的行元素打散为单词，要实现这一点，可以使用 RDD 的 flatMap 方法，先 map 再 flat，flat的示意图如下：\n",
    "![jupyter](../images/flat_map.webp)\n",
    "在分词之后，我们还希望过滤掉空字符串，可以使用 RDD 的 filter 方法实现。"
   ]
  },
  {
   "cell_type": "code",
   "execution_count": 2,
   "metadata": {},
   "outputs": [],
   "source": [
    "# 分词\n",
    "wordRDD = lineRDD.flatMap(lambda line: line.split(\" \"))\n",
    "# 过滤\n",
    "cleanWordRDD = wordRDD.filter(lambda word: word != \"\")"
   ]
  },
  {
   "cell_type": "markdown",
   "metadata": {},
   "source": [
    "## 分组计数\n",
    "\n",
    "在 RDD 的开发框架下，聚合类操作，如计数、求和、求均值，需要依赖键值对（Key Value Pair）类型的数据元素。"
   ]
  },
  {
   "cell_type": "code",
   "execution_count": 3,
   "metadata": {},
   "outputs": [],
   "source": [
    "kvRDD = cleanWordRDD.map(lambda word: (word, 1))"
   ]
  },
  {
   "cell_type": "markdown",
   "metadata": {},
   "source": [
    "使用聚合算子 reduceByKey 来完成分组计数：\n",
    "![jupyter](../images/reduce.webp)"
   ]
  },
  {
   "cell_type": "code",
   "execution_count": 4,
   "metadata": {},
   "outputs": [
    {
     "name": "stdout",
     "output_type": "stream",
     "text": [
      "[('the', 67), ('Spark', 63), ('a', 54), ('and', 51), ('of', 50)]\n"
     ]
    }
   ],
   "source": [
    "# reduceByKey: 分组计数\n",
    "wordCounts = kvRDD.reduceByKey(lambda x, y: x + y)\n",
    "# sortBy: 排序\n",
    "# take: 获取数个元素\n",
    "print(wordCounts.sortBy(lambda x: x[1], False).take(5))"
   ]
  },
  {
   "cell_type": "code",
   "execution_count": null,
   "metadata": {},
   "outputs": [],
   "source": []
  }
 ],
 "metadata": {
  "kernelspec": {
   "display_name": "Python 3",
   "language": "python",
   "name": "python3"
  },
  "language_info": {
   "codemirror_mode": {
    "name": "ipython",
    "version": 3
   },
   "file_extension": ".py",
   "mimetype": "text/x-python",
   "name": "python",
   "nbconvert_exporter": "python",
   "pygments_lexer": "ipython3",
   "version": "3.8.3"
  }
 },
 "nbformat": 4,
 "nbformat_minor": 4
}
