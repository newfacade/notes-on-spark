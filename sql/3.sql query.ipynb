{
 "cells": [
  {
   "cell_type": "markdown",
   "metadata": {},
   "source": [
    "# SQL 语句\n",
    "\n",
    "```{note}\n",
    "对任意的 DataFrame，我们都可以使用 createTempView 创建临时数据表，它的生命周期仅限于 SparkSession 内部。<br/>\n",
    "有了临时表之后，我们就可以使用 SQL 语句灵活地倒腾表数据。\n",
    "```"
   ]
  },
  {
   "cell_type": "code",
   "execution_count": 1,
   "metadata": {},
   "outputs": [],
   "source": [
    "from pyspark.sql import SparkSession\n",
    "\n",
    "spark = (SparkSession\n",
    "         .builder\n",
    "         .appName(\"use query\")\n",
    "         .config('spark.executor.memory', '1g')\n",
    "         .config('spark.driver.memory', '2g')\n",
    "         .config(\"spark.executor.cores\", 1)\n",
    "         .config('spark.cores.max', 2)\n",
    "         .getOrCreate())"
   ]
  },
  {
   "cell_type": "code",
   "execution_count": 4,
   "metadata": {},
   "outputs": [
    {
     "name": "stdout",
     "output_type": "stream",
     "text": [
      "+-----+---+\n",
      "| name|age|\n",
      "+-----+---+\n",
      "|Alice| 18|\n",
      "|  Bob| 20|\n",
      "+-----+---+\n",
      "\n"
     ]
    }
   ],
   "source": [
    "# 创建一个 DataFrame\n",
    "df = spark.createDataFrame([(\"Alice\", 18), (\"Bob\", 20)], [\"name\", \"age\"])\n",
    "# 创建临时表 t1\n",
    "df.createTempView(\"t1\")\n",
    "# 使用查询语句\n",
    "result = spark.sql(\"select * from t1\")\n",
    "result.show()"
   ]
  },
  {
   "cell_type": "code",
   "execution_count": null,
   "metadata": {},
   "outputs": [],
   "source": []
  }
 ],
 "metadata": {
  "kernelspec": {
   "display_name": "Python 3",
   "language": "python",
   "name": "python3"
  },
  "language_info": {
   "codemirror_mode": {
    "name": "ipython",
    "version": 3
   },
   "file_extension": ".py",
   "mimetype": "text/x-python",
   "name": "python",
   "nbconvert_exporter": "python",
   "pygments_lexer": "ipython3",
   "version": "3.8.3"
  }
 },
 "nbformat": 4,
 "nbformat_minor": 4
}
