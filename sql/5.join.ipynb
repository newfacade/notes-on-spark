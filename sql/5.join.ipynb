{
 "cells": [
  {
   "cell_type": "markdown",
   "metadata": {},
   "source": [
    "# 数据关联\n",
    "\n",
    "```{note}\n",
    "在上一节，我们学习了 Spark SQL 支持的诸多算子，其中数据关联（join）是数据分析中很常见、很重要的操作。\n",
    "数据关联可分为内关联、外关联、左关联和右关联。\n",
    "```"
   ]
  },
  {
   "cell_type": "markdown",
   "metadata": {},
   "source": [
    "## 准备数据"
   ]
  },
  {
   "cell_type": "code",
   "execution_count": 1,
   "metadata": {},
   "outputs": [],
   "source": [
    "from pyspark.sql import SparkSession\n",
    "\n",
    "spark = (SparkSession\n",
    "         .builder\n",
    "         .appName(\"df operators\")\n",
    "         .config('spark.executor.memory', '3g')\n",
    "         .config('spark.driver.memory', '6g')\n",
    "         .config(\"spark.executor.cores\", 2)\n",
    "         .config('spark.cores.max', 4)\n",
    "         .getOrCreate())"
   ]
  },
  {
   "cell_type": "code",
   "execution_count": 2,
   "metadata": {},
   "outputs": [
    {
     "name": "stdout",
     "output_type": "stream",
     "text": [
      "+---+-------+---+------+\n",
      "| id|   name|age|gender|\n",
      "+---+-------+---+------+\n",
      "|  1|   Mike| 28|  Male|\n",
      "|  2|   Lily| 30|Female|\n",
      "|  3|Raymond| 26|  Male|\n",
      "|  5|   Dave| 36|  Male|\n",
      "+---+-------+---+------+\n",
      "\n"
     ]
    }
   ],
   "source": [
    "# 创建员工信息表\n",
    "seq = [(1, \"Mike\", 28, \"Male\"), \n",
    "       (2, \"Lily\", 30, \"Female\"), \n",
    "       (3, \"Raymond\", 26, \"Male\"), \n",
    "       (5, \"Dave\", 36, \"Male\")]\n",
    "employeesDF = spark.createDataFrame(seq, [\"id\", \"name\", \"age\", \"gender\"])\n",
    "employeesDF.show()"
   ]
  },
  {
   "cell_type": "code",
   "execution_count": 3,
   "metadata": {},
   "outputs": [
    {
     "name": "stdout",
     "output_type": "stream",
     "text": [
      "+---+------+\n",
      "| id|salary|\n",
      "+---+------+\n",
      "|  1| 26000|\n",
      "|  2| 30000|\n",
      "|  4| 25000|\n",
      "|  3| 20000|\n",
      "+---+------+\n",
      "\n"
     ]
    }
   ],
   "source": [
    "# 创建员工薪水表\n",
    "seq2 = [(1, 26000), (2, 30000), (4, 25000), (3, 20000)]\n",
    "salariesDF = spark.createDataFrame(seq2, [\"id\", \"salary\"])\n",
    "salariesDF.show()"
   ]
  },
  {
   "cell_type": "markdown",
   "metadata": {},
   "source": [
    "## 内关联\n",
    "\n",
    "仅保留左右表中满足条件的数据记录。"
   ]
  },
  {
   "cell_type": "code",
   "execution_count": 4,
   "metadata": {},
   "outputs": [
    {
     "name": "stdout",
     "output_type": "stream",
     "text": [
      "+---+-------+---+------+------+\n",
      "| id|   name|age|gender|salary|\n",
      "+---+-------+---+------+------+\n",
      "|  1|   Mike| 28|  Male| 26000|\n",
      "|  2|   Lily| 30|Female| 30000|\n",
      "|  3|Raymond| 26|  Male| 20000|\n",
      "+---+-------+---+------+------+\n",
      "\n"
     ]
    }
   ],
   "source": [
    "# 左表中 name=Dave 的记录被丢弃了\n",
    "# 右表中 id=4 的记录被丢弃了\n",
    "employeesDF.join(salariesDF, \"id\", \"inner\").show()"
   ]
  },
  {
   "cell_type": "markdown",
   "metadata": {},
   "source": [
    "# 左关联\n",
    "\n",
    "以左表为准，保留所有左表记录，尽量去匹配右表"
   ]
  },
  {
   "cell_type": "code",
   "execution_count": 5,
   "metadata": {},
   "outputs": [
    {
     "name": "stdout",
     "output_type": "stream",
     "text": [
      "+---+-------+---+------+------+\n",
      "| id|   name|age|gender|salary|\n",
      "+---+-------+---+------+------+\n",
      "|  1|   Mike| 28|  Male| 26000|\n",
      "|  2|   Lily| 30|Female| 30000|\n",
      "|  3|Raymond| 26|  Male| 20000|\n",
      "|  5|   Dave| 36|  Male|  null|\n",
      "+---+-------+---+------+------+\n",
      "\n"
     ]
    }
   ],
   "source": [
    "# name=Dave 的记录被保留，salary=null\n",
    "employeesDF.join(salariesDF, \"id\", \"left\").show()"
   ]
  },
  {
   "cell_type": "markdown",
   "metadata": {},
   "source": [
    "## 右关联\n",
    "\n",
    "与左关联相反，以右表为准"
   ]
  },
  {
   "cell_type": "code",
   "execution_count": 6,
   "metadata": {},
   "outputs": [
    {
     "name": "stdout",
     "output_type": "stream",
     "text": [
      "+---+-------+----+------+------+\n",
      "| id|   name| age|gender|salary|\n",
      "+---+-------+----+------+------+\n",
      "|  1|   Mike|  28|  Male| 26000|\n",
      "|  2|   Lily|  30|Female| 30000|\n",
      "|  3|Raymond|  26|  Male| 20000|\n",
      "|  4|   null|null|  null| 25000|\n",
      "+---+-------+----+------+------+\n",
      "\n"
     ]
    }
   ],
   "source": [
    "# id=5 的记录被保留，name=age=gender=null\n",
    "employeesDF.join(salariesDF, \"id\", \"right\").show()"
   ]
  },
  {
   "cell_type": "markdown",
   "metadata": {},
   "source": [
    "## 外关联\n",
    "\n",
    "也被称为全关联（full），顾名思义，我全都要。"
   ]
  },
  {
   "cell_type": "code",
   "execution_count": 7,
   "metadata": {},
   "outputs": [
    {
     "name": "stdout",
     "output_type": "stream",
     "text": [
      "+---+-------+----+------+------+\n",
      "| id|   name| age|gender|salary|\n",
      "+---+-------+----+------+------+\n",
      "|  1|   Mike|  28|  Male| 26000|\n",
      "|  2|   Lily|  30|Female| 30000|\n",
      "|  3|Raymond|  26|  Male| 20000|\n",
      "|  4|   null|null|  null| 25000|\n",
      "|  5|   Dave|  36|  Male|  null|\n",
      "+---+-------+----+------+------+\n",
      "\n"
     ]
    }
   ],
   "source": [
    "# name=Dave 和 id=5 的记录都被保留\n",
    "employeesDF.join(salariesDF, \"id\", \"outer\").show()"
   ]
  },
  {
   "cell_type": "code",
   "execution_count": null,
   "metadata": {},
   "outputs": [],
   "source": []
  }
 ],
 "metadata": {
  "kernelspec": {
   "display_name": "Python 3",
   "language": "python",
   "name": "python3"
  },
  "language_info": {
   "codemirror_mode": {
    "name": "ipython",
    "version": 3
   },
   "file_extension": ".py",
   "mimetype": "text/x-python",
   "name": "python",
   "nbconvert_exporter": "python",
   "pygments_lexer": "ipython3",
   "version": "3.8.3"
  }
 },
 "nbformat": 4,
 "nbformat_minor": 4
}
