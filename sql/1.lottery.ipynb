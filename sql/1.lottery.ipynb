{
 "cells": [
  {
   "cell_type": "markdown",
   "metadata": {},
   "source": [
    "# 小汽车摇号分析\n",
    "\n",
    "```{note}\n",
    "在所有的 Spark 计算子框架中，Spark SQL 是代码量最多、Spark 社区投入最大、应用范围最广、影响力最深远的那个。<br/>\n",
    "就像之前以 Word Count 为例来学习 RDD 一样，我们使用小汽车摇号分析这个例子来学习 Spark SQL 。\n",
    "```"
   ]
  },
  {
   "cell_type": "markdown",
   "metadata": {},
   "source": [
    "## SparkSession"
   ]
  },
  {
   "cell_type": "code",
   "execution_count": 1,
   "metadata": {},
   "outputs": [],
   "source": [
    "from pyspark.sql import SparkSession\n",
    "\n",
    "# Spark SQL 使用 SparkSession 作为入口\n",
    "spark = (SparkSession\n",
    "         .builder\n",
    "         .appName(\"lottery\")\n",
    "         .config('spark.executor.memory', '6g')\n",
    "         .config('spark.driver.memory', '12g')\n",
    "         .config(\"spark.executor.cores\", 4)\n",
    "         .config('spark.cores.max', 8)\n",
    "         .getOrCreate())"
   ]
  },
  {
   "cell_type": "markdown",
   "metadata": {},
   "source": [
    "## 读取数据"
   ]
  },
  {
   "cell_type": "code",
   "execution_count": 3,
   "metadata": {},
   "outputs": [
    {
     "name": "stdout",
     "output_type": "stream",
     "text": [
      "+-------------+--------+\n",
      "|       carNum|batchNum|\n",
      "+-------------+--------+\n",
      "|1307103851262|  201906|\n",
      "|3759104948944|  201906|\n",
      "|1371101893066|  201906|\n",
      "|3795100749475|  201906|\n",
      "|1537105696290|  201906|\n",
      "|3750108035493|  201906|\n",
      "|1469104063180|  201906|\n",
      "|3776101354768|  201906|\n",
      "|1608103890895|  201906|\n",
      "|3586100269069|  201906|\n",
      "+-------------+--------+\n",
      "only showing top 10 rows\n",
      "\n"
     ]
    }
   ],
   "source": [
    "# 申请者数据\n",
    "applyNumbersDF = spark.read.parquet(\"../data/lottery/apply\")\n",
    "applyNumbersDF.show(10)"
   ]
  },
  {
   "cell_type": "code",
   "execution_count": 4,
   "metadata": {},
   "outputs": [
    {
     "name": "stdout",
     "output_type": "stream",
     "text": [
      "+-------------+--------+\n",
      "|       carNum|batchNum|\n",
      "+-------------+--------+\n",
      "|7923100191899|  201401|\n",
      "|0570100126544|  201401|\n",
      "|6780102763770|  201401|\n",
      "|4512101029666|  201401|\n",
      "|8302101265951|  201401|\n",
      "|1235101372069|  201401|\n",
      "|6296102696988|  201401|\n",
      "|0905100893507|  201401|\n",
      "|2697101120908|  201401|\n",
      "|5417100109768|  201401|\n",
      "+-------------+--------+\n",
      "only showing top 10 rows\n",
      "\n"
     ]
    }
   ],
   "source": [
    "# 中签者数据\n",
    "luckyDogsDF = spark.read.parquet(\"../data/lottery/lucky\")\n",
    "luckyDogsDF.show(10)"
   ]
  },
  {
   "cell_type": "markdown",
   "metadata": {},
   "source": [
    "## 关联"
   ]
  },
  {
   "cell_type": "code",
   "execution_count": 7,
   "metadata": {},
   "outputs": [],
   "source": [
    "import pyspark.sql.functions as F\n",
    "\n",
    "# 过滤2016年之前的数据\n",
    "filteredLuckyDogs = luckyDogsDF.filter(F.col(\"batchNum\") >= \"201601\").select(\"carNum\")\n",
    "\n",
    "# 摇号数据与中签数据做内关联，仅统计中签者\n",
    "jointDF = applyNumbersDF.join(filteredLuckyDogs, \"carNum\", \"inner\")"
   ]
  },
  {
   "cell_type": "markdown",
   "metadata": {},
   "source": [
    "## 统计"
   ]
  },
  {
   "cell_type": "code",
   "execution_count": 8,
   "metadata": {},
   "outputs": [],
   "source": [
    "# 以batchNum、carNum做分组，统计出现次数即倍率系数\n",
    "multipliers = jointDF.groupBy([\"batchNum\", \"carNum\"]).agg(F.count(\"batchNum\").alias(\"multiplier\"))\n",
    "\n",
    "# 以carNum做分组，保留最大的倍率系数\n",
    "uniqueMultipliers = multipliers.groupBy(\"carNum\").agg(F.max(\"multiplier\").alias(\"multiplier\"))"
   ]
  },
  {
   "cell_type": "code",
   "execution_count": 10,
   "metadata": {},
   "outputs": [
    {
     "name": "stdout",
     "output_type": "stream",
     "text": [
      "+----------+-----+\n",
      "|multiplier|  cnt|\n",
      "+----------+-----+\n",
      "|         1| 8967|\n",
      "|         2|19174|\n",
      "|         3|26952|\n",
      "|         4|29755|\n",
      "|         5|32988|\n",
      "|         6|34119|\n",
      "|         7|29707|\n",
      "|         8|26123|\n",
      "|         9|19476|\n",
      "|        10| 9616|\n",
      "+----------+-----+\n",
      "only showing top 10 rows\n",
      "\n"
     ]
    }
   ],
   "source": [
    "# 以multiplier倍率做分组，统计人数\n",
    "result = uniqueMultipliers.groupBy(\"multiplier\").agg(F.count(\"carNum\").alias(\"cnt\")).orderBy(\"multiplier\")\n",
    "result.show(10)"
   ]
  },
  {
   "cell_type": "code",
   "execution_count": null,
   "metadata": {},
   "outputs": [],
   "source": []
  }
 ],
 "metadata": {
  "kernelspec": {
   "display_name": "Python 3",
   "language": "python",
   "name": "python3"
  },
  "language_info": {
   "codemirror_mode": {
    "name": "ipython",
    "version": 3
   },
   "file_extension": ".py",
   "mimetype": "text/x-python",
   "name": "python",
   "nbconvert_exporter": "python",
   "pygments_lexer": "ipython3",
   "version": "3.8.3"
  }
 },
 "nbformat": 4,
 "nbformat_minor": 4
}
